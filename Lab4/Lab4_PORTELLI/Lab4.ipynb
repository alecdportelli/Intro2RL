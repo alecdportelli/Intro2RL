{
 "cells": [
  {
   "cell_type": "markdown",
   "metadata": {},
   "source": [
    "<hr/>\n",
    "\n",
    "# Foundations of Reinforcement Learning\n",
    "\n",
    "<hr/>"
   ]
  },
  {
   "cell_type": "markdown",
   "metadata": {},
   "source": [
    "<h1><font color=\"darkblue\">Lab 4: Monte Carlo Method  </font></h1>\n",
    "\n",
    "\n",
    "\n",
    "\n",
    "\n",
    "##  Content\n",
    "1. Monte Carlo Method\n"
   ]
  },
  {
   "cell_type": "markdown",
   "metadata": {},
   "source": [
    "Import Gym and other necessary libraries"
   ]
  },
  {
   "cell_type": "code",
   "execution_count": 2,
   "metadata": {},
   "outputs": [
    {
     "name": "stdout",
     "output_type": "stream",
     "text": [
      "%pylab is deprecated, use %matplotlib inline and import the required libraries.\n",
      "Populating the interactive namespace from numpy and matplotlib\n"
     ]
    }
   ],
   "source": [
    "%pylab inline\n",
    "import numpy as np\n",
    "import matplotlib.pyplot as plt\n",
    "import gym\n",
    "from IPython import display\n",
    "import random"
   ]
  },
  {
   "cell_type": "markdown",
   "metadata": {},
   "source": [
    "## 1. Monte Carlo Method  (CartPole-v1 environment)"
   ]
  },
  {
   "cell_type": "markdown",
   "metadata": {},
   "source": [
    "### 1.1 CartPole Introduction\n",
    "\n",
    "We now apply Monte Carlo Method for CartPole problem. \n",
    "\n",
    "\n",
    "1. A pole is attached by an un-actuated joint to a cart, which moves along a frictionless track. \n",
    "\n",
    "0. The system is controlled by applying a force of +1 or -1 to the cart. \n",
    "\n",
    "0. The pendulum starts up, and the goal is to prevent it from falling over. \n",
    "\n",
    "0. A reward of +1 is provided for every timestep that the pole remains up. \n",
    "\n",
    "0. The episode ends when the pole is more than 15 degrees from vertical, or the cart moves more than 2.4 units from the center.\n",
    "\n",
    "0. For more info (See [SOURCE ON GITHUB](https://github.com/openai/gym/blob/master/gym/envs/classic_control/cartpole.py)).\n",
    "\n",
    "The following examples show the basic usage of this testing environment: \n",
    "\n"
   ]
  },
  {
   "cell_type": "markdown",
   "metadata": {},
   "source": [
    "### 1.1.1 Episode initialization and Initial Value"
   ]
  },
  {
   "cell_type": "code",
   "execution_count": 3,
   "metadata": {},
   "outputs": [
    {
     "name": "stdout",
     "output_type": "stream",
     "text": [
      "Inital observation is (array([-0.04832037,  0.02465061,  0.02842472,  0.03649355], dtype=float32), {})\n",
      "\n",
      "This means the cart current position is -0.04832037165760994 with velocity 0.024650607258081436,\n",
      "and the pole current angular position is 0.028424719348549843 with angular velocity 0.03649355471134186,\n"
     ]
    },
    {
     "name": "stderr",
     "output_type": "stream",
     "text": [
      "/Users/alecportelli/anaconda3/envs/Quadcopter-AI/lib/python3.11/site-packages/gym/envs/registration.py:555: UserWarning: \u001b[33mWARN: The environment CartPole-v0 is out of date. You should consider upgrading to version `v1`.\u001b[0m\n",
      "  logger.warn(\n"
     ]
    }
   ],
   "source": [
    "env = gym.make('CartPole-v0')\n",
    "observation = env.reset() ##Initial an episode\n",
    "\n",
    "print(\"Inital observation is {}\".format(observation))\n",
    "\n",
    "print(\"\\nThis means the cart current position is {}\".format(observation[0][0]), end = '')\n",
    "print(\" with velocity {},\".format(observation[0][1]))\n",
    "\n",
    "print(\"and the pole current angular position is {}\".format(observation[0][2]), end = '')\n",
    "print(\" with angular velocity {},\".format(observation[0][3]))\n"
   ]
  },
  {
   "cell_type": "markdown",
   "metadata": {},
   "source": [
    "### 1.1.2 Take actions\n",
    "\n",
    "\n",
    "Use env.step(action) to take an action\n",
    "\n",
    "action is an integer from 0 to 1\n",
    "\n",
    "0: \"Left\"; 1: \"Right\""
   ]
  },
  {
   "cell_type": "code",
   "execution_count": 4,
   "metadata": {},
   "outputs": [
    {
     "name": "stdout",
     "output_type": "stream",
     "text": [
      "Current observation is (array([-0.04832037,  0.02465061,  0.02842472,  0.03649355], dtype=float32), {})\n",
      "\n",
      "New observation is (array([-0.04832037,  0.02465061,  0.02842472,  0.03649355], dtype=float32), {})\n",
      "Step reward is 1.0\n",
      "Did episode just ends? -False\n"
     ]
    },
    {
     "name": "stderr",
     "output_type": "stream",
     "text": [
      "/Users/alecportelli/anaconda3/envs/Quadcopter-AI/lib/python3.11/site-packages/gym/utils/passive_env_checker.py:233: DeprecationWarning: `np.bool8` is a deprecated alias for `np.bool_`.  (Deprecated NumPy 1.24)\n",
      "  if not isinstance(terminated, (bool, np.bool8)):\n"
     ]
    }
   ],
   "source": [
    "print(\"Current observation is {}\".format(observation))\n",
    "\n",
    "action = 0 #go left\n",
    "obs, reward, terminated, truncated, info = env.step(action) # simulate one step\n",
    "\n",
    "print(\"\\nNew observation is {}\".format(observation))\n",
    "print(\"Step reward is {}\".format(reward))\n",
    "print(\"Did episode just ends? -{}\".format(terminated)) # episode ends when 3.1(6) happens\n",
    "\n"
   ]
  },
  {
   "cell_type": "markdown",
   "metadata": {},
   "source": [
    "### 1.1.3 Simulate multiple episodes\n",
    "\n",
    "(You may uncomment those lines to see an animation. However, it will not work for JupyterHub since the animation requires GL instead of webGL. If you have Jupyter notebook localy on your computer, this version of code will work through a virtual frame.)"
   ]
  },
  {
   "cell_type": "code",
   "execution_count": 5,
   "metadata": {},
   "outputs": [
    {
     "name": "stdout",
     "output_type": "stream",
     "text": [
      "Average reward per episode is 21.27659574468085\n"
     ]
    }
   ],
   "source": [
    "env = gym.make('CartPole-v0')\n",
    "observation = env.reset()\n",
    "total_reward = 0\n",
    "ep_num = 0\n",
    "# img = plt.imshow(env.render(mode='rgb_array')) \n",
    "\n",
    "\n",
    "for _ in range(1000):\n",
    "    #     img.set_data(env.render(mode='rgb_array')) \n",
    "    #     display.display(plt.gcf())\n",
    "    #     display.clear_output(wait=True)\n",
    "    \n",
    "    action = env.action_space.sample()     # this takes random actions\n",
    "    obs, reward, terminated, truncated, info = env.step(action) \n",
    "       \n",
    "    total_reward += reward\n",
    "    \n",
    "\n",
    "\n",
    "    if terminated:                         # episode just ends\n",
    "        observation = env.reset()          # reset episode\n",
    "        ep_num += 1\n",
    "\n",
    "print(\"Average reward per episode is {}\".format(total_reward/ep_num))\n",
    "env.close()\n"
   ]
  },
  {
   "cell_type": "markdown",
   "metadata": {},
   "source": [
    "### 1.1.4 States simplification \n",
    "\n",
    "For convenience, we consider only cart position and pole angular position, (i.e. state dimension = 2).\n",
    "\n",
    "Note that the observed cart position $P \\in [-4.8, 4.8]$ and pole angular position $\\theta \\in [-0.418, 0.418]$ for all times. Then, we could evenly devide those two intervals to from a finite number of states."
   ]
  },
  {
   "cell_type": "code",
   "execution_count": 6,
   "metadata": {},
   "outputs": [
    {
     "name": "stdout",
     "output_type": "stream",
     "text": [
      "\n",
      "The cart current position is 0.03323473036289215 and the pole current angular position is -0.024911178275942802\n",
      "which projected to state [50.0, 47.0]\n"
     ]
    }
   ],
   "source": [
    "def find_state_idx(ob,ls0,ls1):\n",
    "    pos_diff = ob[0][0] +4.8\n",
    "    a_pos_diff = ob[0][2] + 0.418\n",
    "    \n",
    "    step_size_1 = 4.8*2/(ls0-1)\n",
    "    step_size_2 = 0.418*2/(ls1-1)\n",
    "    \n",
    "    \n",
    "    d_1 = np.round(pos_diff/step_size_1)\n",
    "    d_3 = np.round(a_pos_diff/step_size_2)\n",
    "     \n",
    "    return [d_1,d_3]\n",
    "\n",
    "\n",
    "ls_cart = 100 #devide the position of cart into 100 states\n",
    "ls_pole = 100 #devide the angular position of pole into 100 states\n",
    "\n",
    "# Threre are 100 * 100 = 10000 different states in total\n",
    "\n",
    "observation = env.reset()\n",
    "state_idx = find_state_idx(observation, ls_cart, ls_pole)\n",
    "\n",
    "print(\"\\nThe cart current position is {}\".format(observation[0][0]), end = '')\n",
    "print(\" and the pole current angular position is {}\".format(observation[0][2]))\n",
    "\n",
    "print(\"which projected to state {}\".format(state_idx))"
   ]
  },
  {
   "cell_type": "markdown",
   "metadata": {},
   "source": [
    "### 1.2 On-policy first-visit MC control\n",
    "1. Implement \"On-policy first-visit MC control\" algorithum in [Ch 5.4 Sutton] to choose optimal actions\n",
    "2. Simulate this algorithum for 30000 episodes.\n",
    "3. Devide the previous 30000 episodes into 15 sets. Plot average rewards for each sets. (i.e. plot average rewards for the first 2000 episodes, the second 2000 episodes, ..., and the 15th 2000 episodes.) \n",
    "4. Plot the heatmap for Q for each action\n"
   ]
  },
  {
   "cell_type": "code",
   "execution_count": 360,
   "metadata": {},
   "outputs": [
    {
     "name": "stderr",
     "output_type": "stream",
     "text": [
      "/Users/alecportelli/anaconda3/envs/Quadcopter-AI/lib/python3.11/site-packages/gym/utils/passive_env_checker.py:233: DeprecationWarning: `np.bool8` is a deprecated alias for `np.bool_`.  (Deprecated NumPy 1.24)\n",
      "  if not isinstance(terminated, (bool, np.bool8)):\n"
     ]
    },
    {
     "name": "stdout",
     "output_type": "stream",
     "text": [
      "On episode 0 and the average reward for this 2000 is: 0.004\n",
      "On episode 2000 and the average reward for this 2000 is: 95.782\n",
      "On episode 4000 and the average reward for this 2000 is: 102.05\n",
      "On episode 6000 and the average reward for this 2000 is: 105.627\n",
      "On episode 8000 and the average reward for this 2000 is: 111.8565\n",
      "On episode 10000 and the average reward for this 2000 is: 130.539\n",
      "On episode 12000 and the average reward for this 2000 is: 169.82\n",
      "On episode 14000 and the average reward for this 2000 is: 240.7305\n",
      "On episode 16000 and the average reward for this 2000 is: 468.06\n",
      "On episode 18000 and the average reward for this 2000 is: 1036.7945\n",
      "On episode 20000 and the average reward for this 2000 is: 1387.21\n",
      "On episode 22000 and the average reward for this 2000 is: 1568.7175\n",
      "On episode 24000 and the average reward for this 2000 is: 1510.6495\n",
      "On episode 26000 and the average reward for this 2000 is: 1750.923\n",
      "On episode 28000 and the average reward for this 2000 is: 1739.521\n",
      "All done building policy!\n",
      "15\n",
      "All done extracting policy!\n"
     ]
    }
   ],
   "source": [
    "import gym\n",
    "import numpy as np\n",
    "\n",
    "# Define a function to discretize the state space\n",
    "def discretize_state(state, bins):\n",
    "    state_indices = []\n",
    "    for i in range(len(bins)):\n",
    "        if isinstance(state, tuple):\n",
    "            value = state[0][i]  # Extract the element from the tuple\n",
    "        else:\n",
    "            value = state[i]  # Extract the element from the tuple\n",
    "        state_indices.append(np.digitize(value, bins[i]))\n",
    "    return tuple(state_indices)\n",
    "\n",
    "def on_policy_mc_control(env, num_episodes, epsilon, bins):\n",
    "    nA = env.action_space.n\n",
    "    state_space_shape = tuple(len(b) + 1 for b in bins)\n",
    "    Q = np.zeros(state_space_shape + (nA,))  # Q-table\n",
    "    N = np.zeros(state_space_shape + (nA,))  # Count of first visits\n",
    "    average_rewards = []                     # List of average rewards \n",
    "    current_ep_reward = 0\n",
    "    total_reward = 0\n",
    "\n",
    "    def epsilon_greedy_policy(state):\n",
    "        if np.random.rand() < epsilon:\n",
    "            return np.random.choice(nA)\n",
    "        else:\n",
    "            return np.argmax(Q[state])\n",
    "\n",
    "    for episode in range(num_episodes):\n",
    "        episode_memory = []  # Store (state, action, reward) tuples for this episode\n",
    "        state = discretize_state(env.reset(), bins)\n",
    "        done = False\n",
    "\n",
    "        # While episode is happening \n",
    "        while not done:\n",
    "            action = epsilon_greedy_policy(state)\n",
    "            next_state, reward, done, truncated, info = env.step(action)\n",
    "            next_state = discretize_state(next_state, bins)\n",
    "            episode_memory.append((state, action, reward))\n",
    "            state = next_state\n",
    "\n",
    "        for t in range(len(episode_memory) - 1, -1, -1):\n",
    "            state, action, reward = episode_memory[t]\n",
    "            current_ep_reward = current_ep_reward + reward\n",
    "            if (state, action) not in episode_memory[:t]:\n",
    "                N[state][action] += 1\n",
    "                Q[state][action] += (1 / N[state][action]) * (current_ep_reward - Q[state][action])\n",
    "\n",
    "        # Update totals\n",
    "        total_reward += current_ep_reward\n",
    "        current_ep_reward = 0\n",
    "\n",
    "        if episode % 2000 == 0:\n",
    "            average_rewards.append(total_reward / 2000)\n",
    "            print(f\"On episode {episode} and the average reward for this 2000 is: {total_reward / 2000}\")\n",
    "            total_reward = 0\n",
    "\n",
    "    return Q, average_rewards\n",
    "\n",
    "if __name__ == \"__main__\":\n",
    "    env = gym.make('CartPole-v1')\n",
    "    num_episodes = 30000\n",
    "    epsilon = 0.1\n",
    "\n",
    "    # Define state space discretization bins\n",
    "    state_bins = [\n",
    "        np.linspace(-2.4, 2.4, 10),\n",
    "        np.linspace(-2.0, 2.0, 10),\n",
    "        np.linspace(-0.418, 0.418, 10),\n",
    "        np.linspace(-3.5, 3.5, 10)\n",
    "    ]\n",
    "\n",
    "    optimal_Q, average_rewards = on_policy_mc_control(env, num_episodes, epsilon, state_bins)\n",
    "    print(\"All done building policy!\")\n",
    "    print(len(average_rewards))\n",
    "\n",
    "    # Use the learned Q-table to extract the optimal policy\n",
    "    optimal_policy = np.argmax(optimal_Q, axis=-1)\n",
    "    print(\"All done extracting policy!\")\n"
   ]
  },
  {
   "cell_type": "code",
   "execution_count": 366,
   "metadata": {},
   "outputs": [
    {
     "data": {
      "image/png": "[encoded data removed]",
      "text/plain": [
       "<Figure size 640x480 with 1 Axes>"
      ]
     },
     "metadata": {},
     "output_type": "display_data"
    }
   ],
   "source": [
    "# Plot the average rewards for each set\n",
    "plt.plot(range(1, 16), average_rewards, marker='o')\n",
    "plt.title(\"Average Rewards for Each Set of 2000 Episodes\")\n",
    "plt.xlabel(\"Set\")\n",
    "plt.ylabel(\"Average Reward\")\n",
    "plt.show()"
   ]
  },
  {
   "cell_type": "code",
   "execution_count": 379,
   "metadata": {},
   "outputs": [
    {
     "data": {
      "image/png": "[encoded data removed]",
      "text/plain": [
       "<Figure size 640x480 with 2 Axes>"
      ]
     },
     "metadata": {},
     "output_type": "display_data"
    }
   ],
   "source": [
    "import numpy as np\n",
    "import matplotlib.pyplot as plt\n",
    "\n",
    "# Reshape the Q-values to a 2D array\n",
    "q_values = optimal_Q.reshape(11, 11, -1).max(axis=2)\n",
    "\n",
    "# Plot the heatmap\n",
    "plt.imshow(q_values, cmap='viridis', origin='lower', aspect='auto')\n",
    "plt.title(\"Heatmap for Q-Values\")\n",
    "plt.colorbar()\n",
    "plt.show()\n"
   ]
  }
 ],
 "metadata": {
  "kernelspec": {
   "display_name": "Python 3",
   "language": "python",
   "name": "python3"
  },
  "language_info": {
   "codemirror_mode": {
    "name": "ipython",
    "version": 3
   },
   "file_extension": ".py",
   "mimetype": "text/x-python",
   "name": "python",
   "nbconvert_exporter": "python",
   "pygments_lexer": "ipython3",
   "version": "3.11.5"
  }
 },
 "nbformat": 4,
 "nbformat_minor": 4
}
